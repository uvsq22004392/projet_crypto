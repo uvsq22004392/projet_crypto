{
 "cells": [
  {
   "cell_type": "markdown",
   "metadata": {},
   "source": [
    "# Cryptanalyse\n",
    "\n",
    "Votre mission, si vous l'acceptez, est de déchiffrer 4 textes de difficulté croissante en vous aidant d'un programme python que vous allez écrire.\n",
    "\n",
    "\n",
    "- Les fichiers ont été cryptés avec des méthodes données en cours.\n",
    "- Les fichiers chiffrés contiennent des textes en ASCII. Une fois déchiffrés ils vous donneront des informations.\n",
    "- Vous devez vous baser sur les fréquences d'apparition des lettres en français (et des paires de lettres) pour casser les codes. Faire une fonction de calcul pour vous aider.\n",
    "- Penser à réutliser le code du td de cryptographie comme base de travail.\n",
    "- Le code de votre programme doit être sur github et vous fournirez un lien vers votre projet github avec le code et le résultat du décodage\n",
    "en le déposant sur Moodle avant le mercredi 12 mai.\n",
    "- Une soutenance sera organisée le 17 mai.\n",
    "\n",
    "\n"
   ]
  },
  {
   "cell_type": "code",
   "execution_count": 6,
   "metadata": {},
   "outputs": [
    {
     "output_type": "stream",
     "name": "stdout",
     "text": [
      "le prochain fichier aura un code par substitution alphabetiqueo chaque lettre est remplacee par une autre. utiliser la frequence des lettres pour decoder le message.\n"
     ]
    }
   ],
   "source": [
    "code1 = \"kd oqnbgzhm ehbghdq ztqz tm bncd ozq rtarshstshnm zkogzadshptd: bgzptd kdssqd drs qdlokzbdd ozq tmd ztsqd. tshkhrdq kz eqdptdmbd cdr kdssqdr ontq cdbncdq kd ldrrzfd.\"\n",
    "    \n",
    "def rang(lettre):\n",
    "    return ord(lettre)-96\n",
    "\n",
    "def decalage(lettre_message, lettre_cle):\n",
    "    return chr(((rang(lettre_message)) + (rang(lettre_cle))) % 26 + 96)\n",
    "\n",
    "def texte_1() :\n",
    "    res = ''\n",
    "    for i in code1:\n",
    "        if i == ' ':\n",
    "            res += ' '\n",
    "        elif i == \".\" :\n",
    "            res += '.'\n",
    "        else:\n",
    "            res += decalage(i, 'a')\n",
    "    print(res)\n",
    "texte_1()"
   ]
  },
  {
   "cell_type": "code",
   "execution_count": 7,
   "metadata": {},
   "outputs": [
    {
     "output_type": "stream",
     "name": "stdout",
     "text": [
      "le prochain fichier est code par un mot de passe de taille inconnue et contient l'indice. les lettres du mot de passe permettent de decaler les lettres du message original modulo 26. seules les lettres de a a z sont chiffrees.\n"
     ]
    }
   ],
   "source": [
    "code2 = \"gx qosvlnkd wkvlkxo xiu vscx qno yd fsu cx qniix cx unkggx kdvsddyx xu vsdukxdu g'kdckvx. gxi gxuuoxi cy fsu cx qniix qxofxuuxdu cx cxvngxo gxi gxuuoxi cy fxiinmx sokmkdng fscygs 26. ixygxi gxi gxuuoxi cx n n a isdu vlkwwoxxi.\"\n",
    "\n",
    "def rang(lettre):\n",
    "    return ord(lettre)-96\n",
    "\n",
    "def texte_2() :\n",
    "    res2 = ''\n",
    "    for i in code2:\n",
    "        if i == 'a':\n",
    "            res2 += 'z'\n",
    "        elif i == \"c\" :\n",
    "            res2 += 'd'\n",
    "        elif i == \"d\" :\n",
    "            res2 += 'n'\n",
    "        elif i == \"f\" :\n",
    "            res2 += 'm'\n",
    "        elif i == \"g\" :\n",
    "            res2 += 'l'\n",
    "        elif i == \"i\" :\n",
    "            res2 += 's'\n",
    "        elif i == \"k\" :\n",
    "            res2 += 'i'\n",
    "        elif i == \"l\" :\n",
    "            res2 += 'h'\n",
    "        elif i == \"m\" :\n",
    "            res2 += 'g'\n",
    "        elif i == \"n\" :\n",
    "            res2 += 'a'\n",
    "        elif i == \"o\" :\n",
    "            res2 += 'r'\n",
    "        elif i == \"q\" :\n",
    "            res2 += 'p'\n",
    "        elif i == \"s\" :\n",
    "            res2 += 'o'\n",
    "        elif i == \"u\" :\n",
    "            res2 += 't'\n",
    "        elif i == \"v\" :\n",
    "            res2 += 'c'\n",
    "        elif i == \"w\" :\n",
    "            res2 += 'f'\n",
    "        elif i == \"x\" :\n",
    "            res2 += 'e'\n",
    "        elif i == \"y\" :\n",
    "            res2 += 'u'\n",
    "        else :\n",
    "            res2 += i\n",
    "    print(res2)\n",
    "    \n",
    "texte_2()"
   ]
  },
  {
   "cell_type": "code",
   "execution_count": 9,
   "metadata": {
    "tags": []
   },
   "outputs": [
    {
     "output_type": "stream",
     "name": "stdout",
     "text": [
      "bravo a l'aide de l'indice vous avez reussi a casser ce code et a finir ce devoir. le dernier texte est pour les braves, regardez vous dans un miroir, en etes vous un ?\n"
     ]
    }
   ],
   "source": [
    "code3 = \"dceuq e n'ehfp cg p'kyhhep uqfw cgiy citudm c gzudiq ni ezhd px c jhptv ep cggsht. kg hdtymdt xdzei gdx rzyq wir mvzxpw, cifcchdb znwd ccyw wy lkcsht, dp isgd uqfw wy ?\"\n",
    "\n",
    "def rang(lettre):\n",
    "    return ord(lettre)-96\n",
    "\n",
    "def decalage(lettre_message, lettre_cle):\n",
    "    return chr(((rang(lettre_message)) + (rang(lettre_cle))) % 26 + 96)\n",
    "\n",
    "def texte_3() :\n",
    "    res3 = ''\n",
    "    finale = \"\"\n",
    "    cpt = 0\n",
    "    for i in code3:\n",
    "        if i == ' ':\n",
    "            res3 += ' '\n",
    "            cpt += 1\n",
    "            if cpt > 3:\n",
    "                cpt = 0\n",
    "        elif i == \".\" :\n",
    "            res3 += '.'\n",
    "            cpt += 1\n",
    "            if cpt > 3:\n",
    "                cpt = 0\n",
    "        elif i == \",\":\n",
    "            res3 += \",\"\n",
    "            cpt += 1\n",
    "            if cpt > 3:\n",
    "                cpt = 0\n",
    "        elif i == \"?\":\n",
    "            res3 += \"?\"\n",
    "            cpt += 1\n",
    "            if cpt > 3:\n",
    "                cpt = 0\n",
    "        elif i == \"'\":\n",
    "            res3 += \"'\"\n",
    "            cpt += 1\n",
    "            if cpt >= 3:\n",
    "                cpt = 0\n",
    "        else:\n",
    "            if cpt == 0:\n",
    "                res3 += decalage(i, 'x')\n",
    "                cpt += 1\n",
    "            elif cpt == 1:\n",
    "                res3 += decalage(i, 'o')\n",
    "                cpt += 1\n",
    "            elif cpt == 2:\n",
    "                res3 += decalage(i, 'v')\n",
    "                cpt += 1\n",
    "            elif cpt == 3:\n",
    "                res3 += decalage(i, 'a')\n",
    "                cpt = 0\n",
    "  \n",
    "    for n in res3:\n",
    "        if n == \"`\":\n",
    "           finale += 'z'\n",
    "        else:\n",
    "            finale += n\n",
    "\n",
    "    print(finale)\n",
    "\n",
    "texte_3()"
   ]
  },
  {
   "cell_type": "code",
   "execution_count": null,
   "metadata": {},
   "outputs": [],
   "source": []
  }
 ],
 "metadata": {
  "kernelspec": {
   "name": "python383jvsc74a57bd0a312243033576bc8b26a404e46da0c95698f8f9d027622410b4133a5096de545",
   "display_name": "Python 3.8.3 64-bit (conda)"
  },
  "language_info": {
   "codemirror_mode": {
    "name": "ipython",
    "version": 3
   },
   "file_extension": ".py",
   "mimetype": "text/x-python",
   "name": "python",
   "nbconvert_exporter": "python",
   "pygments_lexer": "ipython3",
   "version": "3.8.3"
  }
 },
 "nbformat": 4,
 "nbformat_minor": 2
}